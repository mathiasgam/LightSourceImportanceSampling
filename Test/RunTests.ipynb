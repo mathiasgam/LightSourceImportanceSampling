{
 "metadata": {
  "language_info": {
   "codemirror_mode": {
    "name": "ipython",
    "version": 3
   },
   "file_extension": ".py",
   "mimetype": "text/x-python",
   "name": "python",
   "nbconvert_exporter": "python",
   "pygments_lexer": "ipython3",
   "version": "3.7.3-final"
  },
  "orig_nbformat": 2,
  "kernelspec": {
   "name": "python3",
   "display_name": "Python 3"
  }
 },
 "nbformat": 4,
 "nbformat_minor": 2,
 "cells": [
  {
   "cell_type": "code",
   "execution_count": null,
   "metadata": {},
   "outputs": [],
   "source": [
    "import subprocess\n",
    "import os\n",
    "\n",
    "import numpy as np\n",
    "import pandas as pd\n",
    "import matplotlib.pyplot as plt\n",
    "\n",
    "from typing import List"
   ]
  },
  {
   "cell_type": "code",
   "execution_count": null,
   "metadata": {},
   "outputs": [],
   "source": [
    "# Change working directory to the PathTracer\n",
    "#os.chdir(\"C:/Users/mathias.gammelmark/Documents/repo/LightSourceImportanceSampling/PathTracer\")\n",
    "os.chdir(\"../PathTracer\")"
   ]
  },
  {
   "cell_type": "code",
   "execution_count": null,
   "metadata": {},
   "outputs": [],
   "source": [
    "def run(args:List[str]):\n",
    "    process = subprocess.run([\"../bin/Release-windows-x86_64/PathTracer.exe\"] + args, stdout=None)\n",
    "\n",
    "def arg_num_samples(n:int):\n",
    "    return [\"-n\", str(n)]\n",
    "\n",
    "def arg_load_obj(filepath:str):\n",
    "    return [\"-obj\", filepath]\n",
    "\n",
    "def arg_scene(files:List[str]):\n",
    "    res = []\n",
    "    for file in files:\n",
    "        res = res + arg_load_obj(file)\n",
    "    return res\n",
    "\n",
    "def arg_cam_pos(x:float, y:float, z:float):\n",
    "    return [\"-pos\", str(x), str(y), str(z)]\n",
    "\n",
    "def arg_cam_rot(x:float, y:float, z:float):\n",
    "    return [\"-rot\", str(x), str(y), str(z)]\n",
    "\n",
    "def arg_output(filepath:str):\n",
    "    return [\"-out\", filepath]\n",
    "\n",
    "def arg_outdir(filepath:str):\n",
    "    if (filepath.endswith(\"/\")):\n",
    "        return [\"-outdir\", filepath]\n",
    "    else:\n",
    "        return [\"-outdir\", filepath + \"/\"]\n",
    "\n"
   ]
  },
  {
   "cell_type": "code",
   "execution_count": null,
   "metadata": {},
   "outputs": [],
   "source": [
    "figure_dpi = 100\n",
    "\n",
    "def load_image_from_csv(filepath:str):\n",
    "    data = pd.read_csv(filepath).to_numpy()\n",
    "    #print(np.shape(data))\n",
    "    img = np.zeros((512,512,3), dtype=np.float)\n",
    "\n",
    "    for y in range(0,511):\n",
    "        for x in range(0, 511):\n",
    "            pixel = data[(511-y)*512 + x][:]\n",
    "            img[y,x] = pixel\n",
    "\n",
    "    return img\n",
    "\n",
    "def exposure(img, exposure):\n",
    "    # reinhard tone mapping\n",
    "    return img / (img+exposure)\n",
    "\n",
    "def gamma(img, gamma):\n",
    "    return np.power(img, 1.0 / gamma)\n",
    "\n",
    "def color_correct(img):\n",
    "    return gamma(exposure(img, 1.0), 2.2)\n",
    "\n",
    "def show_img(img):\n",
    "    plt.figure(dpi=figure_dpi)\n",
    "    plt.imshow(color_correct(img))\n",
    "    plt.show()"
   ]
  },
  {
   "cell_type": "code",
   "execution_count": null,
   "metadata": {},
   "outputs": [],
   "source": [
    "models = [\"../Assets/Models/Helix.obj\", \"../Assets/Models/CornellBox.obj\"]\n",
    "\n",
    "args_scene = arg_scene(models)"
   ]
  },
  {
   "cell_type": "code",
   "execution_count": null,
   "metadata": {},
   "outputs": [],
   "source": [
    "print(\"Running Pathtracer: Lighttree\")\n",
    "run(args_scene + arg_num_samples(100) + [\"-method\", \"lighttree\", \"-name\", \"Lighttree\"] + arg_outdir(\"../Test/Results/\"))"
   ]
  },
  {
   "cell_type": "code",
   "execution_count": null,
   "metadata": {},
   "outputs": [],
   "source": [
    "print(\"Running Pathtracer: Energy\")\n",
    "run(args_scene + arg_num_samples(100) + [\"-method\", \"energy\", \"-name\", \"Energy\"] + arg_outdir(\"../Test/Results/\"))"
   ]
  },
  {
   "cell_type": "code",
   "execution_count": null,
   "metadata": {},
   "outputs": [],
   "source": [
    "print(\"Running Pathtracer: Naive\")\n",
    "run(args_scene + arg_num_samples(100) + [\"-method\", \"naive\", \"-name\", \"Naive\"] + arg_outdir(\"../Test/Results/\"))"
   ]
  },
  {
   "cell_type": "code",
   "execution_count": null,
   "metadata": {},
   "outputs": [],
   "source": [
    "print(\"Loading Images\")\n",
    "resA = load_image_from_csv(\"../Test/Results/Lighttree.csv\")\n",
    "resB = load_image_from_csv(\"../Test/Results/Energy.csv\")\n",
    "resC = load_image_from_csv(\"../Test/Results/Naive.csv\")\n",
    "\n",
    "show_img(resA)\n",
    "show_img(resB)\n",
    "show_img(resC)"
   ]
  },
  {
   "cell_type": "code",
   "execution_count": null,
   "metadata": {},
   "outputs": [],
   "source": []
  }
 ]
}