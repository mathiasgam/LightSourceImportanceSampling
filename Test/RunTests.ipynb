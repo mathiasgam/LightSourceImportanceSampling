{
 "metadata": {
  "language_info": {
   "codemirror_mode": {
    "name": "ipython",
    "version": 3
   },
   "file_extension": ".py",
   "mimetype": "text/x-python",
   "name": "python",
   "nbconvert_exporter": "python",
   "pygments_lexer": "ipython3",
   "version": "3.8.5-final"
  },
  "orig_nbformat": 2,
  "kernelspec": {
   "name": "python3",
   "display_name": "Python 3"
  }
 },
 "nbformat": 4,
 "nbformat_minor": 2,
 "cells": [
  {
   "cell_type": "code",
   "execution_count": 1,
   "metadata": {},
   "outputs": [],
   "source": [
    "import subprocess\n",
    "import os\n",
    "\n",
    "import numpy as np\n",
    "import pandas as pd\n",
    "import matplotlib.pyplot as plt\n",
    "\n",
    "from typing import List"
   ]
  },
  {
   "cell_type": "code",
   "execution_count": 2,
   "metadata": {},
   "outputs": [],
   "source": [
    "# Change working directory to the PathTracer\n",
    "os.chdir(\"C:/Users/mathias.gammelmark/Documents/repo/LightSourceImportanceSampling/PathTracer\")"
   ]
  },
  {
   "cell_type": "code",
   "execution_count": 3,
   "metadata": {},
   "outputs": [],
   "source": [
    "def run(args:List[str]):\n",
    "    process = subprocess.run([\"../bin/Release-windows-x86_64/PathTracer.exe\"] + args, stdout=None)\n",
    "\n",
    "def arg_num_samples(n:int):\n",
    "    return [\"-n\", str(n)]\n",
    "\n",
    "def arg_load_obj(filepath:str):\n",
    "    return [\"-obj\", filepath]\n",
    "\n",
    "def arg_scene(files:List[str]):\n",
    "    res = []\n",
    "    for file in files:\n",
    "        res = res + arg_load_obj(file)\n",
    "    return res\n",
    "\n",
    "def arg_cam_pos(x:float, y:float, z:float):\n",
    "    return [\"-pos\", str(x), str(y), str(z)]\n",
    "\n",
    "def arg_cam_rot(x:float, y:float, z:float):\n",
    "    return [\"-rot\", str(x), str(y), str(z)]\n",
    "\n",
    "def arg_output(filepath:str):\n",
    "    return [\"-out\", filepath]"
   ]
  },
  {
   "cell_type": "code",
   "execution_count": 4,
   "metadata": {},
   "outputs": [],
   "source": [
    "figure_dpi = 100\n",
    "\n",
    "def load_image_from_csv(filepath:str):\n",
    "    data = pd.read_csv(filepath).to_numpy()\n",
    "    #print(np.shape(data))\n",
    "    img = np.zeros((512,512,3), dtype=np.float)\n",
    "\n",
    "    for y in range(0,511):\n",
    "        for x in range(0, 511):\n",
    "            pixel = data[(511-y)*512 + x][:]\n",
    "            img[y,x] = pixel\n",
    "\n",
    "    return img\n",
    "\n",
    "def exposure(img, exposure):\n",
    "    # reinhard tone mapping\n",
    "    return img / (img+exposure)\n",
    "\n",
    "def gamma(img, gamma):\n",
    "    return np.power(img, 1.0 / gamma)\n",
    "\n",
    "def color_correct(img):\n",
    "    return gamma(exposure(img, 1.0), 2.2)\n",
    "\n",
    "def show_img(img):\n",
    "    plt.figure(dpi=figure_dpi)\n",
    "    plt.imshow(color_correct(img))\n",
    "    plt.show()"
   ]
  },
  {
   "cell_type": "code",
   "execution_count": 5,
   "metadata": {},
   "outputs": [
    {
     "output_type": "stream",
     "name": "stdout",
     "text": [
      "Running Pathtracer\n"
     ]
    },
    {
     "output_type": "error",
     "ename": "NameError",
     "evalue": "name 'NONE' is not defined",
     "traceback": [
      "\u001b[1;31m---------------------------------------------------------------------------\u001b[0m",
      "\u001b[1;31mNameError\u001b[0m                                 Traceback (most recent call last)",
      "\u001b[1;32m<ipython-input-5-2852bf7c5d4b>\u001b[0m in \u001b[0;36m<module>\u001b[1;34m\u001b[0m\n\u001b[0;32m      4\u001b[0m \u001b[1;33m\u001b[0m\u001b[0m\n\u001b[0;32m      5\u001b[0m \u001b[0mprint\u001b[0m\u001b[1;33m(\u001b[0m\u001b[1;34m\"Running Pathtracer\"\u001b[0m\u001b[1;33m)\u001b[0m\u001b[1;33m\u001b[0m\u001b[1;33m\u001b[0m\u001b[0m\n\u001b[1;32m----> 6\u001b[1;33m \u001b[0mrun\u001b[0m\u001b[1;33m(\u001b[0m\u001b[0margs_scene\u001b[0m \u001b[1;33m+\u001b[0m \u001b[0marg_num_samples\u001b[0m\u001b[1;33m(\u001b[0m\u001b[1;36m1\u001b[0m\u001b[1;33m)\u001b[0m\u001b[1;33m)\u001b[0m\u001b[1;33m\u001b[0m\u001b[1;33m\u001b[0m\u001b[0m\n\u001b[0m\u001b[0;32m      7\u001b[0m \u001b[0mprint\u001b[0m\u001b[1;33m(\u001b[0m\u001b[1;34m\"Loading Image\"\u001b[0m\u001b[1;33m)\u001b[0m\u001b[1;33m\u001b[0m\u001b[1;33m\u001b[0m\u001b[0m\n\u001b[0;32m      8\u001b[0m \u001b[0mresA\u001b[0m \u001b[1;33m=\u001b[0m \u001b[0mload_image_from_csv\u001b[0m\u001b[1;33m(\u001b[0m\u001b[1;34m\"../Test/Test.csv\"\u001b[0m\u001b[1;33m)\u001b[0m\u001b[1;33m\u001b[0m\u001b[1;33m\u001b[0m\u001b[0m\n",
      "\u001b[1;32m<ipython-input-3-cf67e03a6131>\u001b[0m in \u001b[0;36mrun\u001b[1;34m(args)\u001b[0m\n\u001b[0;32m      1\u001b[0m \u001b[1;32mdef\u001b[0m \u001b[0mrun\u001b[0m\u001b[1;33m(\u001b[0m\u001b[0margs\u001b[0m\u001b[1;33m:\u001b[0m\u001b[0mList\u001b[0m\u001b[1;33m[\u001b[0m\u001b[0mstr\u001b[0m\u001b[1;33m]\u001b[0m\u001b[1;33m)\u001b[0m\u001b[1;33m:\u001b[0m\u001b[1;33m\u001b[0m\u001b[1;33m\u001b[0m\u001b[0m\n\u001b[1;32m----> 2\u001b[1;33m     \u001b[0mprocess\u001b[0m \u001b[1;33m=\u001b[0m \u001b[0msubprocess\u001b[0m\u001b[1;33m.\u001b[0m\u001b[0mrun\u001b[0m\u001b[1;33m(\u001b[0m\u001b[1;33m[\u001b[0m\u001b[1;34m\"../bin/Release-windows-x86_64/PathTracer.exe\"\u001b[0m\u001b[1;33m]\u001b[0m \u001b[1;33m+\u001b[0m \u001b[0margs\u001b[0m\u001b[1;33m,\u001b[0m \u001b[0mstdout\u001b[0m\u001b[1;33m=\u001b[0m\u001b[0mNONE\u001b[0m\u001b[1;33m)\u001b[0m\u001b[1;33m\u001b[0m\u001b[1;33m\u001b[0m\u001b[0m\n\u001b[0m\u001b[0;32m      3\u001b[0m \u001b[1;33m\u001b[0m\u001b[0m\n\u001b[0;32m      4\u001b[0m \u001b[1;32mdef\u001b[0m \u001b[0marg_num_samples\u001b[0m\u001b[1;33m(\u001b[0m\u001b[0mn\u001b[0m\u001b[1;33m:\u001b[0m\u001b[0mint\u001b[0m\u001b[1;33m)\u001b[0m\u001b[1;33m:\u001b[0m\u001b[1;33m\u001b[0m\u001b[1;33m\u001b[0m\u001b[0m\n\u001b[0;32m      5\u001b[0m     \u001b[1;32mreturn\u001b[0m \u001b[1;33m[\u001b[0m\u001b[1;34m\"-n\"\u001b[0m\u001b[1;33m,\u001b[0m \u001b[0mstr\u001b[0m\u001b[1;33m(\u001b[0m\u001b[0mn\u001b[0m\u001b[1;33m)\u001b[0m\u001b[1;33m]\u001b[0m\u001b[1;33m\u001b[0m\u001b[1;33m\u001b[0m\u001b[0m\n",
      "\u001b[1;31mNameError\u001b[0m: name 'NONE' is not defined"
     ]
    }
   ],
   "source": [
    "models = [\"../Assets/Models/Helix.obj\", \"../Assets/Models/CornellBox.obj\"]\n",
    "\n",
    "args_scene = arg_scene(models)\n",
    "\n",
    "print(\"Running Pathtracer\")\n",
    "run(args_scene + arg_num_samples(1))\n",
    "print(\"Loading Image\")\n",
    "resA = load_image_from_csv(\"../Test/Test.csv\")\n",
    "show_img(resA)\n",
    "\n"
   ]
  },
  {
   "cell_type": "code",
   "execution_count": null,
   "metadata": {},
   "outputs": [],
   "source": [
    "print(\"Running Pathtracer\")\n",
    "run(args_scene + arg_num_samples(1000))\n",
    "print(\"Loading Image\")\n",
    "resB = load_image_from_csv(\"../Test/Test.csv\")\n",
    "show_img(resB)"
   ]
  },
  {
   "cell_type": "code",
   "execution_count": null,
   "metadata": {},
   "outputs": [],
   "source": []
  }
 ]
}