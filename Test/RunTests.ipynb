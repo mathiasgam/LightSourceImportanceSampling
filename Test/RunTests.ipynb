{
 "metadata": {
  "language_info": {
   "codemirror_mode": {
    "name": "ipython",
    "version": 3
   },
   "file_extension": ".py",
   "mimetype": "text/x-python",
   "name": "python",
   "nbconvert_exporter": "python",
   "pygments_lexer": "ipython3",
   "version": "3.7.3-final"
  },
  "orig_nbformat": 2,
  "kernelspec": {
   "name": "python3",
   "display_name": "Python 3"
  }
 },
 "nbformat": 4,
 "nbformat_minor": 2,
 "cells": [
  {
   "cell_type": "code",
   "execution_count": null,
   "metadata": {},
   "outputs": [],
   "source": [
    "import subprocess\n",
    "from subprocess import PIPE\n",
    "import os\n",
    "\n",
    "import numpy as np\n",
    "import pandas as pd\n",
    "import matplotlib.pyplot as plt\n",
    "\n",
    "from typing import List"
   ]
  },
  {
   "cell_type": "code",
   "execution_count": null,
   "metadata": {},
   "outputs": [],
   "source": [
    "# Change working directory to the PathTracer\n",
    "#os.chdir(\"C:/Users/mathias.gammelmark/Documents/repo/LightSourceImportanceSampling/PathTracer\")\n",
    "os.chdir(\"../PathTracer\")"
   ]
  },
  {
   "cell_type": "code",
   "execution_count": null,
   "metadata": {},
   "outputs": [],
   "source": [
    "def run(args:List[str]):\n",
    "    process = subprocess.Popen([\"../bin/Release-windows-x86_64/PathTracer.exe\"] + args, stdout=subprocess.PIPE)\n",
    "    while process.poll() is None:\n",
    "        output = process.stdout.readline().decode(\"utf-8\").strip()\n",
    "        if (output is not ''):\n",
    "            print(output)\n",
    "\n",
    "def arg_num_samples(n:int):\n",
    "    return [\"-n\", str(n)]\n",
    "\n",
    "def arg_load_obj(filepath:str):\n",
    "    return [\"-obj\", filepath]\n",
    "\n",
    "def arg_scene(files:List[str]):\n",
    "    res = []\n",
    "    for file in files:\n",
    "        res = res + arg_load_obj(file)\n",
    "    return res\n",
    "\n",
    "def arg_cam_pos(x:float, y:float, z:float):\n",
    "    return [\"-pos\", str(x), str(y), str(z)]\n",
    "\n",
    "def arg_cam_rot(x:float, y:float, z:float):\n",
    "    return [\"-rot\", str(x), str(y), str(z)]\n",
    "\n",
    "def arg_output(filepath:str):\n",
    "    return [\"-out\", filepath]\n",
    "\n",
    "def arg_outdir(filepath:str):\n",
    "    if (filepath.endswith(\"/\")):\n",
    "        return [\"-outdir\", filepath]\n",
    "    else:\n",
    "        return [\"-outdir\", filepath + \"/\"]\n",
    "\n"
   ]
  },
  {
   "cell_type": "code",
   "execution_count": null,
   "metadata": {},
   "outputs": [],
   "source": [
    "figure_dpi = 100\n",
    "\n",
    "def load_profile_from_csv(filepath:str):\n",
    "    df = pd.read_csv(filepath, header=None).T\n",
    "    df.columns = df.iloc[0]\n",
    "    df.drop(0,inplace=True)\n",
    "    print(\"Loaded Profile: {}\".format(filepath))\n",
    "    return df\n",
    "\n",
    "def load_image_from_csv(filepath:str):\n",
    "    data = pd.read_csv(filepath).to_numpy()\n",
    "    #print(np.shape(data))\n",
    "    img = np.zeros((512,512,3), dtype=np.float)\n",
    "\n",
    "    for y in range(0,511):\n",
    "        for x in range(0, 511):\n",
    "            pixel = data[(511-y)*512 + x][:]\n",
    "            img[y,x] = pixel\n",
    "\n",
    "    print(\"Loaded Image: {}\".format(filepath))\n",
    "    return color_correct(img)\n",
    "\n",
    "def exposure(img, exposure):\n",
    "    # reinhard tone mapping\n",
    "    return img / (img+exposure)\n",
    "\n",
    "def gamma(img, gamma):\n",
    "    return np.power(img, 1.0 / gamma)\n",
    "\n",
    "def color_correct(img):\n",
    "    return gamma(exposure(img, 1.0), 2.2)\n",
    "\n",
    "def difference(ImgA, ImgB):\n",
    "    diff = np.abs(ImgA - ImgB)\n",
    "    return diff[:,:,0] + diff[:,:,1] + diff[:,:,2]\n",
    "\n",
    "def show_img(img):\n",
    "    plt.figure(dpi=figure_dpi)\n",
    "    plt.imshow(img)\n",
    "    plt.show()\n",
    "\n",
    "def show_spectral(img):\n",
    "    plt.figure(dpi=figure_dpi)\n",
    "    plt.imshow(img, cmap=\"coolwarm\")\n",
    "    plt.clim(0, 1)\n",
    "    plt.colorbar()\n",
    "    plt.show()\n",
    "\n",
    "def show_diff_image(imgA, imgB):\n",
    "    diff = difference(imgA, imgB)\n",
    "    #diff = np.power(diff,2)\n",
    "    #diff = exposure(diff, 1.0)\n",
    "    show_spectral(diff)\n"
   ]
  },
  {
   "cell_type": "code",
   "execution_count": null,
   "metadata": {},
   "outputs": [],
   "source": [
    "def mse(imageA, imageB):\n",
    "\t# the 'Mean Squared Error' between the two images is the\n",
    "\t# sum of the squared difference between the two images;\n",
    "\t# NOTE: the two images must have the same dimension\n",
    "\terr = np.sum((imageA.astype(\"float\") - imageB.astype(\"float\")) ** 2)\n",
    "\terr /= float(imageA.shape[0] * imageA.shape[1])\n",
    "\t\n",
    "\t# return the MSE, the lower the error, the more \"similar\"\n",
    "\t# the two images are\n",
    "\treturn err\n"
   ]
  },
  {
   "cell_type": "code",
   "execution_count": null,
   "metadata": {},
   "outputs": [],
   "source": [
    "model_cornell = \"../Assets/Models/CornellBox.obj\"\n",
    "model_helix = \"../Assets/Models/Helix.obj\"\n",
    "model_buddha = \"../Assets/Models/Buddha.obj\"\n",
    "\n",
    "folder_results = \"../Test/Results/\"\n",
    "folder_ref = \"../Test/Ref/\"\n",
    "\n",
    "cornell_scene_args = arg_scene([model_cornell, model_helix])"
   ]
  },
  {
   "cell_type": "code",
   "execution_count": null,
   "metadata": {},
   "outputs": [],
   "source": [
    "reference_count = 10000\n",
    "def run_cornell_reference():\n",
    "    args = []\n",
    "    args += cornell_scene_args\n",
    "    args += arg_outdir(folder_ref)\n",
    "    args += arg_num_samples(reference_count)\n",
    "    args += [\"-method\", \"naive\"]\n",
    "    args += [\"-name\", \"cornell_ref\"]\n",
    "    run(args)\n",
    "\n",
    "# Takes a very long time to compute\n",
    "# run_cornell_reference()"
   ]
  },
  {
   "cell_type": "code",
   "execution_count": null,
   "metadata": {},
   "outputs": [],
   "source": [
    "runs = 10\n",
    "scene_args = cornell_scene_args\n",
    "\n",
    "method = \"lighttree\"\n",
    "attenuation_type = \"mindist\" \n",
    "\n",
    "def run_statistics_test(name:str):\n",
    "    models = cornell_scene_args\n",
    "    static_args = (\n",
    "        scene_args + \n",
    "        arg_outdir(folder_results) + \n",
    "        [\"-method\", method] + \n",
    "        [\"-atten\", attenuation_type])\n",
    "\n",
    "    for samples in [1,2,4,8,16,32,64,128,256]:\n",
    "        args = static_args\n",
    "        args += arg_num_samples(samples)\n",
    "        args += [\"-name\", name + \"_spp_\" + str(samples)]\n",
    "        run(args)\n",
    "\n",
    "def load_statistics_test_data(name:str):\n",
    "    images = []\n",
    "    profiles = []\n",
    "    for samples in [1,2,4,8,16,32,64,128,256]:\n",
    "        filename = folder_results + name + \"_spp_\" + str(samples)\n",
    "        images.append(load_image_from_csv(filename + \".csv\"))\n",
    "        profiles.append(load_profile_from_csv(filename + \"_profile.csv\"))\n",
    "\n",
    "    img_ref = load_image_from_csv(folder_ref + \"cornell_ref.csv\")\n",
    "\n",
    "    result = pd.concat(profiles)\n",
    "    error = np.array([mse(img, img_ref) for img in images])\n",
    "    result['mse'] = error\n",
    "\n",
    "    return result\n",
    "\n",
    "#run_statistics_test(\"cornell_lighttree\")\n",
    "df_lighttree = load_statistics_test_data(\"cornell_lighttree\")"
   ]
  },
  {
   "cell_type": "code",
   "execution_count": null,
   "metadata": {},
   "outputs": [],
   "source": [
    "method = \"energy\"\n",
    "#run_statistics_test(\"cornell_energy\")\n",
    "df_energy = load_statistics_test_data(\"cornell_energy\")"
   ]
  },
  {
   "cell_type": "code",
   "execution_count": null,
   "metadata": {},
   "outputs": [],
   "source": [
    "method = \"naive\"\n",
    "#run_statistics_test(\"cornell_naive\")\n",
    "df_naive = load_statistics_test_data(\"cornell_naive\")"
   ]
  },
  {
   "cell_type": "code",
   "execution_count": null,
   "metadata": {},
   "outputs": [],
   "source": [
    "plt.figure()\n",
    "\n",
    "df = pd.concat([df_energy,df_lighttree, df_naive])\n",
    "df['num_samples'] = df['num_samples'].astype(int)\n",
    "#df['time_render'] = df['time_render'].astype(float)\n",
    "\n",
    "df = df.groupby(['num_samples','sampling']).mean().unstack()\n",
    "df = df.plot(logx=True, logy=True)\n",
    "#print(df)\n",
    "#df.plot(x='time_render',logy=True)\n",
    "#df_lighttree.plot(x='num_samples', y=['mse'], logx=True)\n",
    "#df_energy.plot(x='num_samples', y=['mse'], logx=True)\n",
    "plt.show()"
   ]
  },
  {
   "cell_type": "code",
   "execution_count": null,
   "metadata": {},
   "outputs": [],
   "source": [
    "print(\"Running Pathtracer: Lighttree\")\n",
    "#run(cornell_scene_args + arg_num_samples(100) + [\"-atten\", \"mindist\", \"-method\", \"lighttree\", \"-name\", \"lighttree\"] + arg_outdir(\"../Test/Results/\"))"
   ]
  },
  {
   "cell_type": "code",
   "execution_count": null,
   "metadata": {},
   "outputs": [],
   "source": [
    "print(\"Running Pathtracer: Energy\")\n",
    "#run(cornell_scene_args + arg_num_samples(100) + [\"-atten\", \"mindist\", \"-method\", \"energy\", \"-name\", \"Energy\"] + arg_outdir(\"../Test/Results/\"))"
   ]
  },
  {
   "cell_type": "code",
   "execution_count": null,
   "metadata": {},
   "outputs": [],
   "source": [
    "print(\"Running Pathtracer: Naive\")\n",
    "#run(cornell_scene_args + arg_num_samples(100) + [\"-atten\", \"mindist\", \"-method\", \"naive\", \"-name\", \"Naive\"] + arg_outdir(\"../Test/Results/\"))"
   ]
  },
  {
   "cell_type": "code",
   "execution_count": null,
   "metadata": {},
   "outputs": [],
   "source": [
    "print(\"Loading Images\")\n",
    "res_ref = load_image_from_csv(\"../Test/Ref/cornell_ref.csv\")\n",
    "resA = load_image_from_csv(\"../Test/Results/Lighttree.csv\")\n",
    "resB = load_image_from_csv(\"../Test/Results/Energy.csv\")\n",
    "resC = load_image_from_csv(\"../Test/Results/Naive.csv\")\n",
    "\n",
    "print(\"Lighttree MSE: {}\".format(mse(resA, res_ref)))\n",
    "print(\"Energy    MSE: {}\".format(mse(resB, res_ref)))\n",
    "print(\"Naive     MSE: {}\".format(mse(resC, res_ref)))\n",
    "\n",
    "show_diff_image(resA,res_ref)\n",
    "show_diff_image(resB,res_ref)\n",
    "show_diff_image(resC,res_ref)"
   ]
  },
  {
   "cell_type": "code",
   "execution_count": null,
   "metadata": {},
   "outputs": [],
   "source": [
    "frames = []\n",
    "frames.append(load_profile_from_csv(\"../Test/Results/Lighttree_profile.csv\"))\n",
    "frames.append(load_profile_from_csv(\"../Test/Results/Energy_profile.csv\"))\n",
    "frames.append(load_profile_from_csv(\"../Test/Results/Naive_profile.csv\"))\n",
    "\n",
    "result = pd.concat(frames)\n",
    "result.head()"
   ]
  },
  {
   "cell_type": "code",
   "execution_count": null,
   "metadata": {},
   "outputs": [],
   "source": [
    "show_img((resA))\n",
    "show_img((resB))\n",
    "show_img((resC))\n",
    "show_img((res_ref))"
   ]
  },
  {
   "cell_type": "code",
   "execution_count": null,
   "metadata": {},
   "outputs": [],
   "source": []
  }
 ]
}