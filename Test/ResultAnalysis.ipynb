{
 "metadata": {
  "language_info": {
   "codemirror_mode": {
    "name": "ipython",
    "version": 3
   },
   "file_extension": ".py",
   "mimetype": "text/x-python",
   "name": "python",
   "nbconvert_exporter": "python",
   "pygments_lexer": "ipython3",
   "version": "3.7.3-final"
  },
  "orig_nbformat": 2,
  "kernelspec": {
   "name": "python3",
   "display_name": "Python 3"
  }
 },
 "nbformat": 4,
 "nbformat_minor": 2,
 "cells": [
  {
   "source": [
    "# Result Analysis\n",
    "This document is for analysing the results of my thesis project \n",
    "\n",
    "\n",
    "Include all libraries used"
   ],
   "cell_type": "markdown",
   "metadata": {}
  },
  {
   "cell_type": "code",
   "execution_count": null,
   "metadata": {},
   "outputs": [],
   "source": [
    "import numpy as np\n",
    "import pandas as pd\n",
    "import matplotlib.pyplot as plt"
   ]
  },
  {
   "source": [
    "## Loading Image Data\n",
    "Image data is saved in CSV format, with each row representing a pixel.\n",
    "\n",
    "Currently all image has the same dimensions"
   ],
   "cell_type": "markdown",
   "metadata": {}
  },
  {
   "cell_type": "code",
   "execution_count": null,
   "metadata": {},
   "outputs": [],
   "source": [
    "def load_image_from_csv(filepath:str):\n",
    "    data = pd.read_csv(filepath).to_numpy()\n",
    "    #print(np.shape(data))\n",
    "    img = np.zeros((512,512,3), dtype=np.float)\n",
    "\n",
    "    for y in range(0,511):\n",
    "        for x in range(0, 511):\n",
    "            pixel = data[(511-y)*512 + x][:]\n",
    "            img[y,x] = pixel\n",
    "\n",
    "    return img"
   ]
  },
  {
   "source": [
    "Load some test images for now"
   ],
   "cell_type": "markdown",
   "metadata": {}
  },
  {
   "cell_type": "code",
   "execution_count": null,
   "metadata": {},
   "outputs": [],
   "source": [
    "img_test = load_image_from_csv(\"Test.csv\")\n",
    "img_ref = load_image_from_csv(\"Ref.csv\")"
   ]
  },
  {
   "source": [
    "## Error Metric\n",
    "\n",
    "Defines function for calculating the error in each image relative to the reference.\n",
    "\n",
    "- MSE\n",
    "- RMSE\n",
    "- SSIM"
   ],
   "cell_type": "markdown",
   "metadata": {}
  },
  {
   "cell_type": "code",
   "execution_count": null,
   "metadata": {},
   "outputs": [],
   "source": [
    "def mse(imageA, imageB):\n",
    "\t# the 'Mean Squared Error' between the two images is the\n",
    "\t# sum of the squared difference between the two images;\n",
    "\t# NOTE: the two images must have the same dimension\n",
    "\terr = np.sum((imageA.astype(\"float\") - imageB.astype(\"float\")) ** 2)\n",
    "\terr /= float(imageA.shape[0] * imageA.shape[1])\n",
    "\t\n",
    "\t# return the MSE, the lower the error, the more \"similar\"\n",
    "\t# the two images are\n",
    "\treturn err"
   ]
  },
  {
   "source": [
    "Calculate mse of the two example images"
   ],
   "cell_type": "markdown",
   "metadata": {}
  },
  {
   "cell_type": "code",
   "execution_count": null,
   "metadata": {},
   "outputs": [],
   "source": [
    "print(\"MSE: {}\".format(mse(img_test, img_ref)))"
   ]
  },
  {
   "source": [
    "## Show Images\n",
    "functions for showing the images and visualize the differences"
   ],
   "cell_type": "markdown",
   "metadata": {}
  },
  {
   "cell_type": "code",
   "execution_count": null,
   "metadata": {},
   "outputs": [],
   "source": [
    "def show_diff_image(imgA, imgB):\n",
    "    diff = np.abs(img_ref - img_test)\n",
    "    error = diff[:,:,0] + diff[:,:,1] + diff[:,:,2]\n",
    "\n",
    "    error = np.clip(error,0.0,1.0)\n",
    "    \n",
    "    plt.imshow(error, cmap=\"nipy_spectral\")\n",
    "    plt.colorbar()\n",
    "    plt.show()\n",
    "\n",
    "def show_img(img):\n",
    "    plt.imshow(img)\n",
    "    plt.show()\n",
    "\n",
    "def exposure(img, exposure):\n",
    "    # reinhard tone mapping\n",
    "    return img / (img+exposure)\n",
    "\n",
    "def gamma(img, gamma):\n",
    "    return np.power(img, 1.0 / gamma)\n",
    "\n",
    "def color_correct(img):\n",
    "    return gamma(exposure(img, 1.0), 2.2)"
   ]
  },
  {
   "source": [
    "Show the example images"
   ],
   "cell_type": "markdown",
   "metadata": {}
  },
  {
   "cell_type": "code",
   "execution_count": null,
   "metadata": {},
   "outputs": [],
   "source": [
    "show_diff_image(img_test, img_ref)\n",
    "\n",
    "img_ref_corr = color_correct(img_ref)\n",
    "img_test_corr = color_correct(img_test)\n",
    "\n",
    "show_img(img_test_corr)\n",
    "show_img(img_ref_corr)"
   ]
  },
  {
   "cell_type": "code",
   "execution_count": null,
   "metadata": {},
   "outputs": [],
   "source": []
  }
 ]
}